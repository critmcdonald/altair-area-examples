{
 "cells": [
  {
   "cell_type": "markdown",
   "metadata": {},
   "source": [
    "# Altair area chart examples\n",
    "\n",
    "By [Ben Welsh](http://palewi.re/who-is-ben-welsh/)\n",
    "\n",
    "How to use the [Altair](http://altair-viz.github.io) data visualization library to create an array of area charts."
   ]
  },
  {
   "cell_type": "markdown",
   "metadata": {},
   "source": [
    "### Preparation"
   ]
  },
  {
   "cell_type": "markdown",
   "metadata": {},
   "source": [
    "We start by importing Altair."
   ]
  },
  {
   "cell_type": "code",
   "execution_count": 3,
   "metadata": {},
   "outputs": [],
   "source": [
    "import altair as alt"
   ]
  },
  {
   "cell_type": "markdown",
   "metadata": {},
   "source": [
    "Next we bring in our example dataset, which tracks the mix of electricity sources used to generate power in the state of Iowa.\n",
    "\n",
    "It's provided by the U.S. Energy Information Administration via the Vega project's example datasets library."
   ]
  },
  {
   "cell_type": "code",
   "execution_count": 6,
   "metadata": {},
   "outputs": [],
   "source": [
    "import vega_datasets"
   ]
  },
  {
   "cell_type": "code",
   "execution_count": 8,
   "metadata": {},
   "outputs": [],
   "source": [
    "data = vega_datasets.data.iowa_electricity()"
   ]
  },
  {
   "cell_type": "markdown",
   "metadata": {},
   "source": [
    "It shows that the share of Iowa's electricity generated via renewable sources like wind power has skyrocketed in recent years.\n",
    "\n",
    "There are three electricity sources: fossil fuels, nuclear energy and renewables. Each source's net generation numbers are reported in thousand megawatthours by year. The dates are encoded in ISO format."
   ]
  },
  {
   "cell_type": "code",
   "execution_count": 9,
   "metadata": {},
   "outputs": [
    {
     "data": {
      "text/html": [
       "<div>\n",
       "<style scoped>\n",
       "    .dataframe tbody tr th:only-of-type {\n",
       "        vertical-align: middle;\n",
       "    }\n",
       "\n",
       "    .dataframe tbody tr th {\n",
       "        vertical-align: top;\n",
       "    }\n",
       "\n",
       "    .dataframe thead th {\n",
       "        text-align: right;\n",
       "    }\n",
       "</style>\n",
       "<table border=\"1\" class=\"dataframe\">\n",
       "  <thead>\n",
       "    <tr style=\"text-align: right;\">\n",
       "      <th></th>\n",
       "      <th>year</th>\n",
       "      <th>source</th>\n",
       "      <th>net_generation</th>\n",
       "    </tr>\n",
       "  </thead>\n",
       "  <tbody>\n",
       "    <tr>\n",
       "      <th>0</th>\n",
       "      <td>2001-01-01</td>\n",
       "      <td>Fossil Fuels</td>\n",
       "      <td>35361</td>\n",
       "    </tr>\n",
       "    <tr>\n",
       "      <th>1</th>\n",
       "      <td>2002-01-01</td>\n",
       "      <td>Fossil Fuels</td>\n",
       "      <td>35991</td>\n",
       "    </tr>\n",
       "    <tr>\n",
       "      <th>2</th>\n",
       "      <td>2003-01-01</td>\n",
       "      <td>Fossil Fuels</td>\n",
       "      <td>36234</td>\n",
       "    </tr>\n",
       "    <tr>\n",
       "      <th>3</th>\n",
       "      <td>2004-01-01</td>\n",
       "      <td>Fossil Fuels</td>\n",
       "      <td>36205</td>\n",
       "    </tr>\n",
       "    <tr>\n",
       "      <th>4</th>\n",
       "      <td>2005-01-01</td>\n",
       "      <td>Fossil Fuels</td>\n",
       "      <td>36883</td>\n",
       "    </tr>\n",
       "  </tbody>\n",
       "</table>\n",
       "</div>"
      ],
      "text/plain": [
       "        year        source  net_generation\n",
       "0 2001-01-01  Fossil Fuels           35361\n",
       "1 2002-01-01  Fossil Fuels           35991\n",
       "2 2003-01-01  Fossil Fuels           36234\n",
       "3 2004-01-01  Fossil Fuels           36205\n",
       "4 2005-01-01  Fossil Fuels           36883"
      ]
     },
     "execution_count": 9,
     "metadata": {},
     "output_type": "execute_result"
    }
   ],
   "source": [
    "data.head()"
   ]
  },
  {
   "cell_type": "markdown",
   "metadata": {},
   "source": [
    "That last part is important. Altair generally expects "
   ]
  },
  {
   "cell_type": "markdown",
   "metadata": {},
   "source": [
    "### Stacked area chart"
   ]
  },
  {
   "cell_type": "code",
   "execution_count": 3,
   "metadata": {},
   "outputs": [
    {
     "data": {
      "application/vnd.vegalite.v2+json": {
       "$schema": "https://vega.github.io/schema/vega-lite/v2.4.1.json",
       "config": {
        "view": {
         "height": 300,
         "width": 400
        }
       },
       "data": {
        "values": [
         {
          "net_generation": 35361,
          "source": "Fossil Fuels",
          "year": "2001-01-01"
         },
         {
          "net_generation": 35991,
          "source": "Fossil Fuels",
          "year": "2002-01-01"
         },
         {
          "net_generation": 36234,
          "source": "Fossil Fuels",
          "year": "2003-01-01"
         },
         {
          "net_generation": 36205,
          "source": "Fossil Fuels",
          "year": "2004-01-01"
         },
         {
          "net_generation": 36883,
          "source": "Fossil Fuels",
          "year": "2005-01-01"
         },
         {
          "net_generation": 37014,
          "source": "Fossil Fuels",
          "year": "2006-01-01"
         },
         {
          "net_generation": 41389,
          "source": "Fossil Fuels",
          "year": "2007-01-01"
         },
         {
          "net_generation": 42734,
          "source": "Fossil Fuels",
          "year": "2008-01-01"
         },
         {
          "net_generation": 38620,
          "source": "Fossil Fuels",
          "year": "2009-01-01"
         },
         {
          "net_generation": 42750,
          "source": "Fossil Fuels",
          "year": "2010-01-01"
         },
         {
          "net_generation": 39361,
          "source": "Fossil Fuels",
          "year": "2011-01-01"
         },
         {
          "net_generation": 37379,
          "source": "Fossil Fuels",
          "year": "2012-01-01"
         },
         {
          "net_generation": 34873,
          "source": "Fossil Fuels",
          "year": "2013-01-01"
         },
         {
          "net_generation": 35250,
          "source": "Fossil Fuels",
          "year": "2014-01-01"
         },
         {
          "net_generation": 32319,
          "source": "Fossil Fuels",
          "year": "2015-01-01"
         },
         {
          "net_generation": 28437,
          "source": "Fossil Fuels",
          "year": "2016-01-01"
         },
         {
          "net_generation": 29329,
          "source": "Fossil Fuels",
          "year": "2017-01-01"
         },
         {
          "net_generation": 3853,
          "source": "Nuclear Energy",
          "year": "2001-01-01"
         },
         {
          "net_generation": 4574,
          "source": "Nuclear Energy",
          "year": "2002-01-01"
         },
         {
          "net_generation": 3988,
          "source": "Nuclear Energy",
          "year": "2003-01-01"
         },
         {
          "net_generation": 4929,
          "source": "Nuclear Energy",
          "year": "2004-01-01"
         },
         {
          "net_generation": 4538,
          "source": "Nuclear Energy",
          "year": "2005-01-01"
         },
         {
          "net_generation": 5095,
          "source": "Nuclear Energy",
          "year": "2006-01-01"
         },
         {
          "net_generation": 4519,
          "source": "Nuclear Energy",
          "year": "2007-01-01"
         },
         {
          "net_generation": 5282,
          "source": "Nuclear Energy",
          "year": "2008-01-01"
         },
         {
          "net_generation": 4679,
          "source": "Nuclear Energy",
          "year": "2009-01-01"
         },
         {
          "net_generation": 4451,
          "source": "Nuclear Energy",
          "year": "2010-01-01"
         },
         {
          "net_generation": 5215,
          "source": "Nuclear Energy",
          "year": "2011-01-01"
         },
         {
          "net_generation": 4347,
          "source": "Nuclear Energy",
          "year": "2012-01-01"
         },
         {
          "net_generation": 5321,
          "source": "Nuclear Energy",
          "year": "2013-01-01"
         },
         {
          "net_generation": 4152,
          "source": "Nuclear Energy",
          "year": "2014-01-01"
         },
         {
          "net_generation": 5243,
          "source": "Nuclear Energy",
          "year": "2015-01-01"
         },
         {
          "net_generation": 4703,
          "source": "Nuclear Energy",
          "year": "2016-01-01"
         },
         {
          "net_generation": 5214,
          "source": "Nuclear Energy",
          "year": "2017-01-01"
         },
         {
          "net_generation": 1437,
          "source": "Renewables",
          "year": "2001-01-01"
         },
         {
          "net_generation": 1963,
          "source": "Renewables",
          "year": "2002-01-01"
         },
         {
          "net_generation": 1885,
          "source": "Renewables",
          "year": "2003-01-01"
         },
         {
          "net_generation": 2102,
          "source": "Renewables",
          "year": "2004-01-01"
         },
         {
          "net_generation": 2724,
          "source": "Renewables",
          "year": "2005-01-01"
         },
         {
          "net_generation": 3364,
          "source": "Renewables",
          "year": "2006-01-01"
         },
         {
          "net_generation": 3870,
          "source": "Renewables",
          "year": "2007-01-01"
         },
         {
          "net_generation": 5070,
          "source": "Renewables",
          "year": "2008-01-01"
         },
         {
          "net_generation": 8560,
          "source": "Renewables",
          "year": "2009-01-01"
         },
         {
          "net_generation": 10308,
          "source": "Renewables",
          "year": "2010-01-01"
         },
         {
          "net_generation": 11795,
          "source": "Renewables",
          "year": "2011-01-01"
         },
         {
          "net_generation": 14949,
          "source": "Renewables",
          "year": "2012-01-01"
         },
         {
          "net_generation": 16476,
          "source": "Renewables",
          "year": "2013-01-01"
         },
         {
          "net_generation": 17452,
          "source": "Renewables",
          "year": "2014-01-01"
         },
         {
          "net_generation": 19091,
          "source": "Renewables",
          "year": "2015-01-01"
         },
         {
          "net_generation": 21241,
          "source": "Renewables",
          "year": "2016-01-01"
         },
         {
          "net_generation": 21933,
          "source": "Renewables",
          "year": "2017-01-01"
         }
        ]
       },
       "encoding": {
        "color": {
         "field": "source",
         "type": "nominal"
        },
        "x": {
         "field": "year",
         "type": "temporal"
        },
        "y": {
         "field": "net_generation",
         "type": "quantitative"
        }
       },
       "mark": "area"
      },
      "image/png": "[encoded data removed]",
      "text/plain": [
       "<VegaLite 2 object>\n",
       "\n",
       "If you see this message, it means the renderer has not been properly enabled\n",
       "for the frontend that you are using. For more information, see\n",
       "https://altair-viz.github.io/user_guide/troubleshooting.html\n"
      ]
     },
     "execution_count": 3,
     "metadata": {},
     "output_type": "execute_result"
    }
   ],
   "source": [
    "alt.Chart(data).mark_area().encode(\n",
    "    x=\"year:T\",\n",
    "    y=\"net_generation:Q\",\n",
    "    color=\"source:N\"\n",
    ")"
   ]
  },
  {
   "cell_type": "code",
   "execution_count": 4,
   "metadata": {},
   "outputs": [
    {
     "data": {
      "application/vnd.vegalite.v2+json": {
       "$schema": "https://vega.github.io/schema/vega-lite/v2.4.1.json",
       "config": {
        "view": {
         "height": 300,
         "width": 400
        }
       },
       "data": {
        "values": [
         {
          "net_generation": 35361,
          "source": "Fossil Fuels",
          "year": "2001-01-01"
         },
         {
          "net_generation": 35991,
          "source": "Fossil Fuels",
          "year": "2002-01-01"
         },
         {
          "net_generation": 36234,
          "source": "Fossil Fuels",
          "year": "2003-01-01"
         },
         {
          "net_generation": 36205,
          "source": "Fossil Fuels",
          "year": "2004-01-01"
         },
         {
          "net_generation": 36883,
          "source": "Fossil Fuels",
          "year": "2005-01-01"
         },
         {
          "net_generation": 37014,
          "source": "Fossil Fuels",
          "year": "2006-01-01"
         },
         {
          "net_generation": 41389,
          "source": "Fossil Fuels",
          "year": "2007-01-01"
         },
         {
          "net_generation": 42734,
          "source": "Fossil Fuels",
          "year": "2008-01-01"
         },
         {
          "net_generation": 38620,
          "source": "Fossil Fuels",
          "year": "2009-01-01"
         },
         {
          "net_generation": 42750,
          "source": "Fossil Fuels",
          "year": "2010-01-01"
         },
         {
          "net_generation": 39361,
          "source": "Fossil Fuels",
          "year": "2011-01-01"
         },
         {
          "net_generation": 37379,
          "source": "Fossil Fuels",
          "year": "2012-01-01"
         },
         {
          "net_generation": 34873,
          "source": "Fossil Fuels",
          "year": "2013-01-01"
         },
         {
          "net_generation": 35250,
          "source": "Fossil Fuels",
          "year": "2014-01-01"
         },
         {
          "net_generation": 32319,
          "source": "Fossil Fuels",
          "year": "2015-01-01"
         },
         {
          "net_generation": 28437,
          "source": "Fossil Fuels",
          "year": "2016-01-01"
         },
         {
          "net_generation": 29329,
          "source": "Fossil Fuels",
          "year": "2017-01-01"
         },
         {
          "net_generation": 3853,
          "source": "Nuclear Energy",
          "year": "2001-01-01"
         },
         {
          "net_generation": 4574,
          "source": "Nuclear Energy",
          "year": "2002-01-01"
         },
         {
          "net_generation": 3988,
          "source": "Nuclear Energy",
          "year": "2003-01-01"
         },
         {
          "net_generation": 4929,
          "source": "Nuclear Energy",
          "year": "2004-01-01"
         },
         {
          "net_generation": 4538,
          "source": "Nuclear Energy",
          "year": "2005-01-01"
         },
         {
          "net_generation": 5095,
          "source": "Nuclear Energy",
          "year": "2006-01-01"
         },
         {
          "net_generation": 4519,
          "source": "Nuclear Energy",
          "year": "2007-01-01"
         },
         {
          "net_generation": 5282,
          "source": "Nuclear Energy",
          "year": "2008-01-01"
         },
         {
          "net_generation": 4679,
          "source": "Nuclear Energy",
          "year": "2009-01-01"
         },
         {
          "net_generation": 4451,
          "source": "Nuclear Energy",
          "year": "2010-01-01"
         },
         {
          "net_generation": 5215,
          "source": "Nuclear Energy",
          "year": "2011-01-01"
         },
         {
          "net_generation": 4347,
          "source": "Nuclear Energy",
          "year": "2012-01-01"
         },
         {
          "net_generation": 5321,
          "source": "Nuclear Energy",
          "year": "2013-01-01"
         },
         {
          "net_generation": 4152,
          "source": "Nuclear Energy",
          "year": "2014-01-01"
         },
         {
          "net_generation": 5243,
          "source": "Nuclear Energy",
          "year": "2015-01-01"
         },
         {
          "net_generation": 4703,
          "source": "Nuclear Energy",
          "year": "2016-01-01"
         },
         {
          "net_generation": 5214,
          "source": "Nuclear Energy",
          "year": "2017-01-01"
         },
         {
          "net_generation": 1437,
          "source": "Renewables",
          "year": "2001-01-01"
         },
         {
          "net_generation": 1963,
          "source": "Renewables",
          "year": "2002-01-01"
         },
         {
          "net_generation": 1885,
          "source": "Renewables",
          "year": "2003-01-01"
         },
         {
          "net_generation": 2102,
          "source": "Renewables",
          "year": "2004-01-01"
         },
         {
          "net_generation": 2724,
          "source": "Renewables",
          "year": "2005-01-01"
         },
         {
          "net_generation": 3364,
          "source": "Renewables",
          "year": "2006-01-01"
         },
         {
          "net_generation": 3870,
          "source": "Renewables",
          "year": "2007-01-01"
         },
         {
          "net_generation": 5070,
          "source": "Renewables",
          "year": "2008-01-01"
         },
         {
          "net_generation": 8560,
          "source": "Renewables",
          "year": "2009-01-01"
         },
         {
          "net_generation": 10308,
          "source": "Renewables",
          "year": "2010-01-01"
         },
         {
          "net_generation": 11795,
          "source": "Renewables",
          "year": "2011-01-01"
         },
         {
          "net_generation": 14949,
          "source": "Renewables",
          "year": "2012-01-01"
         },
         {
          "net_generation": 16476,
          "source": "Renewables",
          "year": "2013-01-01"
         },
         {
          "net_generation": 17452,
          "source": "Renewables",
          "year": "2014-01-01"
         },
         {
          "net_generation": 19091,
          "source": "Renewables",
          "year": "2015-01-01"
         },
         {
          "net_generation": 21241,
          "source": "Renewables",
          "year": "2016-01-01"
         },
         {
          "net_generation": 21933,
          "source": "Renewables",
          "year": "2017-01-01"
         }
        ]
       },
       "encoding": {
        "color": {
         "field": "source",
         "type": "nominal"
        },
        "x": {
         "field": "year",
         "type": "temporal"
        },
        "y": {
         "field": "net_generation",
         "stack": "normalize",
         "type": "quantitative"
        }
       },
       "mark": "area"
      },
      "image/png": "[encoded data removed]",
      "text/plain": [
       "<VegaLite 2 object>\n",
       "\n",
       "If you see this message, it means the renderer has not been properly enabled\n",
       "for the frontend that you are using. For more information, see\n",
       "https://altair-viz.github.io/user_guide/troubleshooting.html\n"
      ]
     },
     "execution_count": 4,
     "metadata": {},
     "output_type": "execute_result"
    }
   ],
   "source": [
    "alt.Chart(data).mark_area().encode(\n",
    "    x=\"year:T\",\n",
    "    y=alt.Y(\"net_generation:Q\", stack=\"normalize\"),\n",
    "    color=\"source:N\"\n",
    ")"
   ]
  },
  {
   "cell_type": "code",
   "execution_count": 6,
   "metadata": {},
   "outputs": [
    {
     "data": {
      "application/vnd.vegalite.v2+json": {
       "$schema": "https://vega.github.io/schema/vega-lite/v2.4.1.json",
       "config": {
        "view": {
         "height": 300,
         "width": 400
        }
       },
       "data": {
        "values": [
         {
          "net_generation": 35361,
          "source": "Fossil Fuels",
          "year": "2001-01-01"
         },
         {
          "net_generation": 35991,
          "source": "Fossil Fuels",
          "year": "2002-01-01"
         },
         {
          "net_generation": 36234,
          "source": "Fossil Fuels",
          "year": "2003-01-01"
         },
         {
          "net_generation": 36205,
          "source": "Fossil Fuels",
          "year": "2004-01-01"
         },
         {
          "net_generation": 36883,
          "source": "Fossil Fuels",
          "year": "2005-01-01"
         },
         {
          "net_generation": 37014,
          "source": "Fossil Fuels",
          "year": "2006-01-01"
         },
         {
          "net_generation": 41389,
          "source": "Fossil Fuels",
          "year": "2007-01-01"
         },
         {
          "net_generation": 42734,
          "source": "Fossil Fuels",
          "year": "2008-01-01"
         },
         {
          "net_generation": 38620,
          "source": "Fossil Fuels",
          "year": "2009-01-01"
         },
         {
          "net_generation": 42750,
          "source": "Fossil Fuels",
          "year": "2010-01-01"
         },
         {
          "net_generation": 39361,
          "source": "Fossil Fuels",
          "year": "2011-01-01"
         },
         {
          "net_generation": 37379,
          "source": "Fossil Fuels",
          "year": "2012-01-01"
         },
         {
          "net_generation": 34873,
          "source": "Fossil Fuels",
          "year": "2013-01-01"
         },
         {
          "net_generation": 35250,
          "source": "Fossil Fuels",
          "year": "2014-01-01"
         },
         {
          "net_generation": 32319,
          "source": "Fossil Fuels",
          "year": "2015-01-01"
         },
         {
          "net_generation": 28437,
          "source": "Fossil Fuels",
          "year": "2016-01-01"
         },
         {
          "net_generation": 29329,
          "source": "Fossil Fuels",
          "year": "2017-01-01"
         },
         {
          "net_generation": 3853,
          "source": "Nuclear Energy",
          "year": "2001-01-01"
         },
         {
          "net_generation": 4574,
          "source": "Nuclear Energy",
          "year": "2002-01-01"
         },
         {
          "net_generation": 3988,
          "source": "Nuclear Energy",
          "year": "2003-01-01"
         },
         {
          "net_generation": 4929,
          "source": "Nuclear Energy",
          "year": "2004-01-01"
         },
         {
          "net_generation": 4538,
          "source": "Nuclear Energy",
          "year": "2005-01-01"
         },
         {
          "net_generation": 5095,
          "source": "Nuclear Energy",
          "year": "2006-01-01"
         },
         {
          "net_generation": 4519,
          "source": "Nuclear Energy",
          "year": "2007-01-01"
         },
         {
          "net_generation": 5282,
          "source": "Nuclear Energy",
          "year": "2008-01-01"
         },
         {
          "net_generation": 4679,
          "source": "Nuclear Energy",
          "year": "2009-01-01"
         },
         {
          "net_generation": 4451,
          "source": "Nuclear Energy",
          "year": "2010-01-01"
         },
         {
          "net_generation": 5215,
          "source": "Nuclear Energy",
          "year": "2011-01-01"
         },
         {
          "net_generation": 4347,
          "source": "Nuclear Energy",
          "year": "2012-01-01"
         },
         {
          "net_generation": 5321,
          "source": "Nuclear Energy",
          "year": "2013-01-01"
         },
         {
          "net_generation": 4152,
          "source": "Nuclear Energy",
          "year": "2014-01-01"
         },
         {
          "net_generation": 5243,
          "source": "Nuclear Energy",
          "year": "2015-01-01"
         },
         {
          "net_generation": 4703,
          "source": "Nuclear Energy",
          "year": "2016-01-01"
         },
         {
          "net_generation": 5214,
          "source": "Nuclear Energy",
          "year": "2017-01-01"
         },
         {
          "net_generation": 1437,
          "source": "Renewables",
          "year": "2001-01-01"
         },
         {
          "net_generation": 1963,
          "source": "Renewables",
          "year": "2002-01-01"
         },
         {
          "net_generation": 1885,
          "source": "Renewables",
          "year": "2003-01-01"
         },
         {
          "net_generation": 2102,
          "source": "Renewables",
          "year": "2004-01-01"
         },
         {
          "net_generation": 2724,
          "source": "Renewables",
          "year": "2005-01-01"
         },
         {
          "net_generation": 3364,
          "source": "Renewables",
          "year": "2006-01-01"
         },
         {
          "net_generation": 3870,
          "source": "Renewables",
          "year": "2007-01-01"
         },
         {
          "net_generation": 5070,
          "source": "Renewables",
          "year": "2008-01-01"
         },
         {
          "net_generation": 8560,
          "source": "Renewables",
          "year": "2009-01-01"
         },
         {
          "net_generation": 10308,
          "source": "Renewables",
          "year": "2010-01-01"
         },
         {
          "net_generation": 11795,
          "source": "Renewables",
          "year": "2011-01-01"
         },
         {
          "net_generation": 14949,
          "source": "Renewables",
          "year": "2012-01-01"
         },
         {
          "net_generation": 16476,
          "source": "Renewables",
          "year": "2013-01-01"
         },
         {
          "net_generation": 17452,
          "source": "Renewables",
          "year": "2014-01-01"
         },
         {
          "net_generation": 19091,
          "source": "Renewables",
          "year": "2015-01-01"
         },
         {
          "net_generation": 21241,
          "source": "Renewables",
          "year": "2016-01-01"
         },
         {
          "net_generation": 21933,
          "source": "Renewables",
          "year": "2017-01-01"
         }
        ]
       },
       "encoding": {
        "color": {
         "field": "source",
         "type": "nominal"
        },
        "x": {
         "field": "year",
         "type": "temporal"
        },
        "y": {
         "field": "net_generation",
         "stack": null,
         "type": "quantitative"
        }
       },
       "mark": {
        "opacity": 0.3,
        "type": "area"
       }
      },
      "image/png": "[encoded data removed]",
      "text/plain": [
       "<VegaLite 2 object>\n",
       "\n",
       "If you see this message, it means the renderer has not been properly enabled\n",
       "for the frontend that you are using. For more information, see\n",
       "https://altair-viz.github.io/user_guide/troubleshooting.html\n"
      ]
     },
     "execution_count": 6,
     "metadata": {},
     "output_type": "execute_result"
    }
   ],
   "source": [
    "alt.Chart(data).mark_area(opacity=0.3).encode(\n",
    "    x=\"year:T\",\n",
    "    y=alt.Y(\"net_generation:Q\", stack=None),\n",
    "    color=\"source:N\"\n",
    ")"
   ]
  },
  {
   "cell_type": "code",
   "execution_count": 7,
   "metadata": {},
   "outputs": [
    {
     "data": {
      "application/vnd.vegalite.v2+json": {
       "$schema": "https://vega.github.io/schema/vega-lite/v2.4.1.json",
       "config": {
        "view": {
         "height": 300,
         "width": 400
        }
       },
       "data": {
        "values": [
         {
          "net_generation": 35361,
          "source": "Fossil Fuels",
          "year": "2001-01-01"
         },
         {
          "net_generation": 35991,
          "source": "Fossil Fuels",
          "year": "2002-01-01"
         },
         {
          "net_generation": 36234,
          "source": "Fossil Fuels",
          "year": "2003-01-01"
         },
         {
          "net_generation": 36205,
          "source": "Fossil Fuels",
          "year": "2004-01-01"
         },
         {
          "net_generation": 36883,
          "source": "Fossil Fuels",
          "year": "2005-01-01"
         },
         {
          "net_generation": 37014,
          "source": "Fossil Fuels",
          "year": "2006-01-01"
         },
         {
          "net_generation": 41389,
          "source": "Fossil Fuels",
          "year": "2007-01-01"
         },
         {
          "net_generation": 42734,
          "source": "Fossil Fuels",
          "year": "2008-01-01"
         },
         {
          "net_generation": 38620,
          "source": "Fossil Fuels",
          "year": "2009-01-01"
         },
         {
          "net_generation": 42750,
          "source": "Fossil Fuels",
          "year": "2010-01-01"
         },
         {
          "net_generation": 39361,
          "source": "Fossil Fuels",
          "year": "2011-01-01"
         },
         {
          "net_generation": 37379,
          "source": "Fossil Fuels",
          "year": "2012-01-01"
         },
         {
          "net_generation": 34873,
          "source": "Fossil Fuels",
          "year": "2013-01-01"
         },
         {
          "net_generation": 35250,
          "source": "Fossil Fuels",
          "year": "2014-01-01"
         },
         {
          "net_generation": 32319,
          "source": "Fossil Fuels",
          "year": "2015-01-01"
         },
         {
          "net_generation": 28437,
          "source": "Fossil Fuels",
          "year": "2016-01-01"
         },
         {
          "net_generation": 29329,
          "source": "Fossil Fuels",
          "year": "2017-01-01"
         },
         {
          "net_generation": 3853,
          "source": "Nuclear Energy",
          "year": "2001-01-01"
         },
         {
          "net_generation": 4574,
          "source": "Nuclear Energy",
          "year": "2002-01-01"
         },
         {
          "net_generation": 3988,
          "source": "Nuclear Energy",
          "year": "2003-01-01"
         },
         {
          "net_generation": 4929,
          "source": "Nuclear Energy",
          "year": "2004-01-01"
         },
         {
          "net_generation": 4538,
          "source": "Nuclear Energy",
          "year": "2005-01-01"
         },
         {
          "net_generation": 5095,
          "source": "Nuclear Energy",
          "year": "2006-01-01"
         },
         {
          "net_generation": 4519,
          "source": "Nuclear Energy",
          "year": "2007-01-01"
         },
         {
          "net_generation": 5282,
          "source": "Nuclear Energy",
          "year": "2008-01-01"
         },
         {
          "net_generation": 4679,
          "source": "Nuclear Energy",
          "year": "2009-01-01"
         },
         {
          "net_generation": 4451,
          "source": "Nuclear Energy",
          "year": "2010-01-01"
         },
         {
          "net_generation": 5215,
          "source": "Nuclear Energy",
          "year": "2011-01-01"
         },
         {
          "net_generation": 4347,
          "source": "Nuclear Energy",
          "year": "2012-01-01"
         },
         {
          "net_generation": 5321,
          "source": "Nuclear Energy",
          "year": "2013-01-01"
         },
         {
          "net_generation": 4152,
          "source": "Nuclear Energy",
          "year": "2014-01-01"
         },
         {
          "net_generation": 5243,
          "source": "Nuclear Energy",
          "year": "2015-01-01"
         },
         {
          "net_generation": 4703,
          "source": "Nuclear Energy",
          "year": "2016-01-01"
         },
         {
          "net_generation": 5214,
          "source": "Nuclear Energy",
          "year": "2017-01-01"
         },
         {
          "net_generation": 1437,
          "source": "Renewables",
          "year": "2001-01-01"
         },
         {
          "net_generation": 1963,
          "source": "Renewables",
          "year": "2002-01-01"
         },
         {
          "net_generation": 1885,
          "source": "Renewables",
          "year": "2003-01-01"
         },
         {
          "net_generation": 2102,
          "source": "Renewables",
          "year": "2004-01-01"
         },
         {
          "net_generation": 2724,
          "source": "Renewables",
          "year": "2005-01-01"
         },
         {
          "net_generation": 3364,
          "source": "Renewables",
          "year": "2006-01-01"
         },
         {
          "net_generation": 3870,
          "source": "Renewables",
          "year": "2007-01-01"
         },
         {
          "net_generation": 5070,
          "source": "Renewables",
          "year": "2008-01-01"
         },
         {
          "net_generation": 8560,
          "source": "Renewables",
          "year": "2009-01-01"
         },
         {
          "net_generation": 10308,
          "source": "Renewables",
          "year": "2010-01-01"
         },
         {
          "net_generation": 11795,
          "source": "Renewables",
          "year": "2011-01-01"
         },
         {
          "net_generation": 14949,
          "source": "Renewables",
          "year": "2012-01-01"
         },
         {
          "net_generation": 16476,
          "source": "Renewables",
          "year": "2013-01-01"
         },
         {
          "net_generation": 17452,
          "source": "Renewables",
          "year": "2014-01-01"
         },
         {
          "net_generation": 19091,
          "source": "Renewables",
          "year": "2015-01-01"
         },
         {
          "net_generation": 21241,
          "source": "Renewables",
          "year": "2016-01-01"
         },
         {
          "net_generation": 21933,
          "source": "Renewables",
          "year": "2017-01-01"
         }
        ]
       },
       "encoding": {
        "row": {
         "field": "source",
         "type": "nominal"
        },
        "x": {
         "field": "year",
         "type": "temporal"
        },
        "y": {
         "field": "net_generation",
         "type": "quantitative"
        }
       },
       "mark": "area"
      },
      "image/png": "[encoded data removed]",
      "text/plain": [
       "<VegaLite 2 object>\n",
       "\n",
       "If you see this message, it means the renderer has not been properly enabled\n",
       "for the frontend that you are using. For more information, see\n",
       "https://altair-viz.github.io/user_guide/troubleshooting.html\n"
      ]
     },
     "execution_count": 7,
     "metadata": {},
     "output_type": "execute_result"
    }
   ],
   "source": [
    "alt.Chart(data).mark_area().encode(\n",
    "    x=\"year:T\",\n",
    "    y=\"net_generation:Q\",\n",
    "    row=\"source:N\"\n",
    ")"
   ]
  },
  {
   "cell_type": "code",
   "execution_count": 44,
   "metadata": {},
   "outputs": [
    {
     "data": {
      "application/vnd.vegalite.v2+json": {
       "$schema": "https://vega.github.io/schema/vega-lite/v2.4.1.json",
       "config": {
        "view": {
         "height": 300,
         "width": 400
        }
       },
       "data": {
        "values": [
         {
          "net_generation": 35361,
          "source": "Fossil Fuels",
          "year": "2001-01-01"
         },
         {
          "net_generation": 35991,
          "source": "Fossil Fuels",
          "year": "2002-01-01"
         },
         {
          "net_generation": 36234,
          "source": "Fossil Fuels",
          "year": "2003-01-01"
         },
         {
          "net_generation": 36205,
          "source": "Fossil Fuels",
          "year": "2004-01-01"
         },
         {
          "net_generation": 36883,
          "source": "Fossil Fuels",
          "year": "2005-01-01"
         },
         {
          "net_generation": 37014,
          "source": "Fossil Fuels",
          "year": "2006-01-01"
         },
         {
          "net_generation": 41389,
          "source": "Fossil Fuels",
          "year": "2007-01-01"
         },
         {
          "net_generation": 42734,
          "source": "Fossil Fuels",
          "year": "2008-01-01"
         },
         {
          "net_generation": 38620,
          "source": "Fossil Fuels",
          "year": "2009-01-01"
         },
         {
          "net_generation": 42750,
          "source": "Fossil Fuels",
          "year": "2010-01-01"
         },
         {
          "net_generation": 39361,
          "source": "Fossil Fuels",
          "year": "2011-01-01"
         },
         {
          "net_generation": 37379,
          "source": "Fossil Fuels",
          "year": "2012-01-01"
         },
         {
          "net_generation": 34873,
          "source": "Fossil Fuels",
          "year": "2013-01-01"
         },
         {
          "net_generation": 35250,
          "source": "Fossil Fuels",
          "year": "2014-01-01"
         },
         {
          "net_generation": 32319,
          "source": "Fossil Fuels",
          "year": "2015-01-01"
         },
         {
          "net_generation": 28437,
          "source": "Fossil Fuels",
          "year": "2016-01-01"
         },
         {
          "net_generation": 29329,
          "source": "Fossil Fuels",
          "year": "2017-01-01"
         },
         {
          "net_generation": 3853,
          "source": "Nuclear Energy",
          "year": "2001-01-01"
         },
         {
          "net_generation": 4574,
          "source": "Nuclear Energy",
          "year": "2002-01-01"
         },
         {
          "net_generation": 3988,
          "source": "Nuclear Energy",
          "year": "2003-01-01"
         },
         {
          "net_generation": 4929,
          "source": "Nuclear Energy",
          "year": "2004-01-01"
         },
         {
          "net_generation": 4538,
          "source": "Nuclear Energy",
          "year": "2005-01-01"
         },
         {
          "net_generation": 5095,
          "source": "Nuclear Energy",
          "year": "2006-01-01"
         },
         {
          "net_generation": 4519,
          "source": "Nuclear Energy",
          "year": "2007-01-01"
         },
         {
          "net_generation": 5282,
          "source": "Nuclear Energy",
          "year": "2008-01-01"
         },
         {
          "net_generation": 4679,
          "source": "Nuclear Energy",
          "year": "2009-01-01"
         },
         {
          "net_generation": 4451,
          "source": "Nuclear Energy",
          "year": "2010-01-01"
         },
         {
          "net_generation": 5215,
          "source": "Nuclear Energy",
          "year": "2011-01-01"
         },
         {
          "net_generation": 4347,
          "source": "Nuclear Energy",
          "year": "2012-01-01"
         },
         {
          "net_generation": 5321,
          "source": "Nuclear Energy",
          "year": "2013-01-01"
         },
         {
          "net_generation": 4152,
          "source": "Nuclear Energy",
          "year": "2014-01-01"
         },
         {
          "net_generation": 5243,
          "source": "Nuclear Energy",
          "year": "2015-01-01"
         },
         {
          "net_generation": 4703,
          "source": "Nuclear Energy",
          "year": "2016-01-01"
         },
         {
          "net_generation": 5214,
          "source": "Nuclear Energy",
          "year": "2017-01-01"
         },
         {
          "net_generation": 1437,
          "source": "Renewables",
          "year": "2001-01-01"
         },
         {
          "net_generation": 1963,
          "source": "Renewables",
          "year": "2002-01-01"
         },
         {
          "net_generation": 1885,
          "source": "Renewables",
          "year": "2003-01-01"
         },
         {
          "net_generation": 2102,
          "source": "Renewables",
          "year": "2004-01-01"
         },
         {
          "net_generation": 2724,
          "source": "Renewables",
          "year": "2005-01-01"
         },
         {
          "net_generation": 3364,
          "source": "Renewables",
          "year": "2006-01-01"
         },
         {
          "net_generation": 3870,
          "source": "Renewables",
          "year": "2007-01-01"
         },
         {
          "net_generation": 5070,
          "source": "Renewables",
          "year": "2008-01-01"
         },
         {
          "net_generation": 8560,
          "source": "Renewables",
          "year": "2009-01-01"
         },
         {
          "net_generation": 10308,
          "source": "Renewables",
          "year": "2010-01-01"
         },
         {
          "net_generation": 11795,
          "source": "Renewables",
          "year": "2011-01-01"
         },
         {
          "net_generation": 14949,
          "source": "Renewables",
          "year": "2012-01-01"
         },
         {
          "net_generation": 16476,
          "source": "Renewables",
          "year": "2013-01-01"
         },
         {
          "net_generation": 17452,
          "source": "Renewables",
          "year": "2014-01-01"
         },
         {
          "net_generation": 19091,
          "source": "Renewables",
          "year": "2015-01-01"
         },
         {
          "net_generation": 21241,
          "source": "Renewables",
          "year": "2016-01-01"
         },
         {
          "net_generation": 21933,
          "source": "Renewables",
          "year": "2017-01-01"
         }
        ]
       },
       "encoding": {
        "color": {
         "field": "source",
         "legend": {
          "title": "Electricity source"
         },
         "type": "nominal"
        },
        "x": {
         "axis": {
          "title": "Year"
         },
         "field": "year",
         "timeUnit": "year",
         "type": "temporal"
        },
        "y": {
         "axis": {
          "format": ".0%",
          "title": "Share of net generation"
         },
         "field": "net_generation",
         "stack": "normalize",
         "type": "quantitative"
        }
       },
       "mark": "area",
       "title": "Iowa's renewable energy boom"
      },
      "image/png": "[encoded data removed]",
      "text/plain": [
       "<VegaLite 2 object>\n",
       "\n",
       "If you see this message, it means the renderer has not been properly enabled\n",
       "for the frontend that you are using. For more information, see\n",
       "https://altair-viz.github.io/user_guide/troubleshooting.html\n"
      ]
     },
     "execution_count": 44,
     "metadata": {},
     "output_type": "execute_result"
    }
   ],
   "source": [
    "alt.Chart(data, title=\"Iowa's renewable energy boom\").mark_area().encode(\n",
    "    x=alt.X(\n",
    "        \"year:T\",\n",
    "        timeUnit=\"year\",\n",
    "        axis=alt.Axis(title=\"Year\")\n",
    "    ),\n",
    "    y=alt.Y(\n",
    "        \"net_generation:Q\",\n",
    "        stack=\"normalize\",\n",
    "        axis=alt.Axis(title=\"Share of net generation\", format=\".0%\"),\n",
    "    ),\n",
    "    color=alt.Color(\n",
    "        \"source:N\",\n",
    "        legend=alt.Legend(title=\"Electricity source\"),\n",
    "    )\n",
    ")"
   ]
  },
  {
   "cell_type": "code",
   "execution_count": null,
   "metadata": {},
   "outputs": [],
   "source": []
  },
  {
   "cell_type": "code",
   "execution_count": null,
   "metadata": {},
   "outputs": [],
   "source": []
  }
 ],
 "metadata": {
  "kernelspec": {
   "display_name": "Python 2",
   "language": "python",
   "name": "python2"
  },
  "language_info": {
   "codemirror_mode": {
    "name": "ipython",
    "version": 2
   },
   "file_extension": ".py",
   "mimetype": "text/x-python",
   "name": "python",
   "nbconvert_exporter": "python",
   "pygments_lexer": "ipython2",
   "version": "2.7.12"
  }
 },
 "nbformat": 4,
 "nbformat_minor": 2
}
